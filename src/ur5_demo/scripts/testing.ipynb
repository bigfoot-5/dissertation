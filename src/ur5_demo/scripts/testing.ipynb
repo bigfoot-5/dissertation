{
 "cells": [
  {
   "cell_type": "code",
   "execution_count": 2,
   "metadata": {},
   "outputs": [
    {
     "name": "stdout",
     "output_type": "stream",
     "text": [
      "Quaternion: 0.010 -0.006i +0.010j +1.000k\n"
     ]
    }
   ],
   "source": [
    "from pyquaternion import Quaternion\n",
    "\n",
    "roll = 0.0194281\n",
    "pitch = 0.0127725\n",
    "yaw = 3.12124\n",
    "\n",
    "quaternion = Quaternion(axis=[0, 0, 1], radians=yaw) * Quaternion(axis=[0, 1, 0], radians=pitch) * Quaternion(axis=[1, 0, 0], radians=roll)\n",
    "print(\"Quaternion:\", quaternion)\n"
   ]
  },
  {
   "cell_type": "code",
   "execution_count": null,
   "metadata": {},
   "outputs": [],
   "source": []
  }
 ],
 "metadata": {
  "kernelspec": {
   "display_name": "ros",
   "language": "python",
   "name": "python3"
  },
  "language_info": {
   "codemirror_mode": {
    "name": "ipython",
    "version": 3
   },
   "file_extension": ".py",
   "mimetype": "text/x-python",
   "name": "python",
   "nbconvert_exporter": "python",
   "pygments_lexer": "ipython3",
   "version": "3.8.13"
  },
  "orig_nbformat": 4
 },
 "nbformat": 4,
 "nbformat_minor": 2
}
